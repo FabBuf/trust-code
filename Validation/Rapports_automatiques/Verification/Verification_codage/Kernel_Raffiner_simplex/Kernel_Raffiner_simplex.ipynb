{
 "cells": [
  {
   "cell_type": "markdown",
   "id": "efficient-potter",
   "metadata": {},
   "source": [
    "# Test de raffiner_simplex"
   ]
  },
  {
   "cell_type": "code",
   "execution_count": null,
   "id": "008e93d8",
   "metadata": {},
   "outputs": [],
   "source": [
    "from trustutils import run  \n",
    "\n",
    "run.introduction(\"fauchet\")\n",
    "run.description(\"On essaye en quadrangle, triangle, hexa et tetra.\")\n",
    "run.TRUST_parameters()"
   ]
  },
  {
   "cell_type": "markdown",
   "id": "frequent-melissa",
   "metadata": {},
   "source": [
    "### Test Cases"
   ]
  },
  {
   "cell_type": "code",
   "execution_count": null,
   "id": "e4633efb-a71f-4cfe-8d39-df00a15ba893",
   "metadata": {},
   "outputs": [],
   "source": [
    "from trustutils import run \n",
    "run.addCase(\"tri\",\"2D.data\")\n",
    "run.addCase(\"quad\",\"2D.data\")\n",
    "run.addCase(\"hexa\",\"3D.data\")\n",
    "run.addCase(\"tetra\",\"3D.data\")\n",
    "run.addCase(\".\",\"quality_3D.data\")\n",
    "run.addCase(\".\",\"raf_iso.data\")\n",
    "run.addCase(\"quad_vef\",\"2D.data\")\n",
    "run.addCase(\"hexa_vef\",\"3D.data\")\n",
    "run.addCase(\".\",\"ver_diag.data\")\n",
    "run.printCases()\n",
    "run.runCases()"
   ]
  },
  {
   "cell_type": "code",
   "execution_count": null,
   "id": "2e20f5bc",
   "metadata": {},
   "outputs": [],
   "source": [
    "run.executeCommand(\"./Extract_histogram domain_5 quality_3D.out  > histo\")"
   ]
  },
  {
   "cell_type": "code",
   "execution_count": null,
   "id": "31704280",
   "metadata": {},
   "outputs": [],
   "source": [
    "!cat build/histo > build/histo_check"
   ]
  },
  {
   "cell_type": "markdown",
   "id": "099bb92e-6dab-4222-a17c-3af2fa2e93a0",
   "metadata": {},
   "source": [
    "## Triangle"
   ]
  },
  {
   "cell_type": "code",
   "execution_count": null,
   "id": "83962f10-9670-4368-8394-a0efa15bfea9",
   "metadata": {},
   "outputs": [],
   "source": [
    "from trustutils import visit\n",
    "\n",
    "Graphique=visit.Show(\"tri/2D.lata\",\"Mesh\",\"initial_domain\",nY=2,title=\"maillage initial\")\n",
    "Graphique.visuOptions([\"no_axes\",\"no_databaseinfo\",\"no_legend\",\"no_triad\"])\n",
    "\n",
    "Graphique.add(\"tri/2D.lata\",\"Mesh\",\"final_domain\",yIndice=1,title=\"maillage final\")\n",
    "Graphique.visuOptions([\"no_axes\",\"no_databaseinfo\",\"no_legend\",\"no_triad\"])\n",
    "Graphique.plot()"
   ]
  },
  {
   "cell_type": "markdown",
   "id": "acde9198-fae1-4ee2-8d4d-34374db70396",
   "metadata": {},
   "source": [
    "## Quadrangle"
   ]
  },
  {
   "cell_type": "code",
   "execution_count": null,
   "id": "dc9030b7-a0ee-4c4f-8ed0-355970166fdb",
   "metadata": {},
   "outputs": [],
   "source": [
    "Graphique=visit.Show(\"quad/2D.lata\",\"Mesh\",\"initial_domain\",nY=2,title=\"maillage initial\")\n",
    "Graphique.visuOptions([\"no_axes\",\"no_databaseinfo\",\"no_legend\",\"no_triad\"])\n",
    "\n",
    "Graphique.add(\"quad/2D.lata\",\"Mesh\",\"final_domain\",yIndice=1,title=\"maillage final\")\n",
    "Graphique.visuOptions([\"no_axes\",\"no_databaseinfo\",\"no_legend\",\"no_triad\"])\n",
    "Graphique.plot()"
   ]
  },
  {
   "cell_type": "markdown",
   "id": "5b09cf83-14d3-4174-91da-e69aae9002dd",
   "metadata": {},
   "source": [
    "## Quadrangle_vef"
   ]
  },
  {
   "cell_type": "code",
   "execution_count": null,
   "id": "674bb7f2-f949-4489-bfae-790d77b2b470",
   "metadata": {},
   "outputs": [],
   "source": [
    "Graphique=visit.Show(\"quad_vef/2D.lata\",\"Mesh\",\"initial_domain\",nY=2,title=\"maillage initial\")\n",
    "Graphique.visuOptions([\"no_axes\",\"no_databaseinfo\",\"no_legend\",\"no_triad\"])\n",
    "\n",
    "Graphique.add(\"quad_vef/2D.lata\",\"Mesh\",\"final_domain\",yIndice=1,title=\"maillage final\")\n",
    "Graphique.visuOptions([\"no_axes\",\"no_databaseinfo\",\"no_legend\",\"no_triad\"])\n",
    "Graphique.plot()"
   ]
  },
  {
   "cell_type": "markdown",
   "id": "a2679842-cab4-4520-bd56-94d7aac9b275",
   "metadata": {},
   "source": [
    "## Tetra"
   ]
  },
  {
   "cell_type": "code",
   "execution_count": null,
   "id": "e73c781f-4e55-4c4c-a17d-a82a8e4a85e6",
   "metadata": {},
   "outputs": [],
   "source": [
    "Graphique=visit.Show(\"tetra/3D.lata\",\"Mesh\",\"initial_domain\",nY=2,title=\"maillage initial\")\n",
    "Graphique.visuOptions([\"no_axes\",\"no_databaseinfo\",\"no_legend\",\"no_triad\",\"no_bounding_box\"])\n",
    "Graphique.normal3D([0.489476,-0.789972,0.369266])\n",
    "Graphique.up3D([-0.417847,0.159205,0.89446])\n",
    "\n",
    "Graphique.add(\"tetra/3D.lata\",\"Mesh\",\"final_domain\",yIndice=1,title=\"maillage final\")\n",
    "Graphique.visuOptions([\"no_axes\",\"no_databaseinfo\",\"no_legend\",\"no_triad\",\"no_bounding_box\"])\n",
    "Graphique.normal3D([0.489476,-0.789972,0.369266])\n",
    "Graphique.up3D([-0.417847,0.159205,0.89446])\n",
    "Graphique.plot()"
   ]
  },
  {
   "cell_type": "markdown",
   "id": "e1a00d58-5144-49fa-bf27-d5071b658580",
   "metadata": {},
   "source": [
    "## Hexa"
   ]
  },
  {
   "cell_type": "code",
   "execution_count": null,
   "id": "f2f08894-c6d1-4282-9027-9ca36679cfb4",
   "metadata": {},
   "outputs": [],
   "source": [
    "Graphique=visit.Show(\"hexa/3D.lata\",\"Mesh\",\"initial_domain\",nY=2,title=\"maillage initial\")\n",
    "Graphique.visuOptions([\"no_axes\",\"no_databaseinfo\",\"no_legend\",\"no_triad\",\"no_bounding_box\"])\n",
    "Graphique.normal3D([0.489476,-0.789972,0.369266])\n",
    "Graphique.up3D([-0.417847,0.159205,0.89446])\n",
    "\n",
    "Graphique.add(\"hexa/3D.lata\",\"Mesh\",\"final_domain\",yIndice=1,title=\"maillage final\")\n",
    "Graphique.visuOptions([\"no_axes\",\"no_databaseinfo\",\"no_legend\",\"no_triad\",\"no_bounding_box\"])\n",
    "Graphique.normal3D([0.489476,-0.789972,0.369266])\n",
    "Graphique.up3D([-0.417847,0.159205,0.89446])\n",
    "Graphique.plot()"
   ]
  },
  {
   "cell_type": "markdown",
   "id": "4eb8d248-485b-4ea0-8f69-23a8b0d83ca6",
   "metadata": {},
   "source": [
    "## Hexa_vef"
   ]
  },
  {
   "cell_type": "code",
   "execution_count": null,
   "id": "33f472f9-acd1-4a8f-82a2-cdae804d3bdb",
   "metadata": {},
   "outputs": [],
   "source": [
    "Graphique=visit.Show(\"hexa_vef/3D.lata\",\"Mesh\",\"initial_domain\",nY=2,title=\"maillage initial\")\n",
    "Graphique.visuOptions([\"no_axes\",\"no_databaseinfo\",\"no_legend\",\"no_triad\",\"no_bounding_box\"])\n",
    "Graphique.normal3D([0.489476,-0.789972,0.369266])\n",
    "Graphique.up3D([-0.417847,0.159205,0.89446])\n",
    "\n",
    "Graphique.add(\"hexa_vef/3D.lata\",\"Mesh\",\"final_domain\",yIndice=1,title=\"maillage final\")\n",
    "Graphique.visuOptions([\"no_axes\",\"no_databaseinfo\",\"no_legend\",\"no_triad\",\"no_bounding_box\"])\n",
    "Graphique.normal3D([0.489476,-0.789972,0.369266])\n",
    "Graphique.up3D([-0.417847,0.159205,0.89446])\n",
    "\n",
    "Graphique.plot()"
   ]
  },
  {
   "cell_type": "markdown",
   "id": "29ddcd4d-4882-465f-bfed-b1b5bdfaf11f",
   "metadata": {},
   "source": [
    "## Verification de la conservation du nombre de types de tetra.\n",
    "\n",
    "On prend un tetra que l'on raffine 5 fois.  Au depart, l'angle max du tetra vaut 132 degres."
   ]
  },
  {
   "cell_type": "code",
   "execution_count": null,
   "id": "251ad01c-9d37-4d97-abbe-2a43a9ca7a07",
   "metadata": {},
   "outputs": [],
   "source": [
    "from trustutils import plot\n",
    "import matplotlib.pyplot as plt\n",
    "import numpy as np\n",
    "\n",
    "data=plot.loadText(\"histo\",dtype='str')\n",
    "x=(np.asarray(data[1], dtype = float)+np.asarray(data[4], dtype = float))/2\n",
    "y=np.asarray(data[7], dtype = float)\n",
    "plt.bar(x,y,label=\"angle avec raffiner simplexes\",width=2)\n",
    "plt.legend()\n",
    "plt.show()"
   ]
  }
 ],
 "metadata": {
  "kernelspec": {
   "display_name": "Python 3 (ipykernel)",
   "language": "python",
   "name": "python3"
  },
  "language_info": {
   "codemirror_mode": {
    "name": "ipython",
    "version": 3
   },
   "file_extension": ".py",
   "mimetype": "text/x-python",
   "name": "python",
   "nbconvert_exporter": "python",
   "pygments_lexer": "ipython3",
   "version": "3.7.16"
  },
  "toc-autonumbering": true
 },
 "nbformat": 4,
 "nbformat_minor": 5
}
