{
 "cells": [
  {
   "cell_type": "markdown",
   "id": "inappropriate-lingerie",
   "metadata": {},
   "source": [
    "# Vérification du terme source de décroissance radioactive"
   ]
  },
  {
   "cell_type": "code",
   "execution_count": null,
   "id": "834bfb9b",
   "metadata": {},
   "outputs": [],
   "source": [
    "from trustutils import run  \n",
    "\n",
    "run.introduction(\"Yannick Gorsse\")"
   ]
  },
  {
   "cell_type": "markdown",
   "id": "imperial-shield",
   "metadata": {},
   "source": [
    "### Description\n",
    "\n",
    "Le domaine d'application visé est la modélisation de l'évolution des précurseurs de neutrons retardés dans un calcul couplé avec un code de neutronique. En particulier, les précurseurs sont transportés dans les réacteurs à sels fondus. La distribution spatiale de la concentration en précurseurs (séparés en groupes associés à une constante de décroissance radioactive différente) est résolue entièrement dans TRUST via une équation de converction diffusion de la concentration : $$\\partial_t c + \\nabla\\cdot( u c) - \\nabla\\cdot\\left(D_\\text{eff}\\nabla c\\right) = {\\color{red}{-\\lambda c}} + \\text{Prod}$$\n",
    "\n",
    "Ce terme peut être implémenté via source_constituant et champ_fonc_fonction, mais ne pourra pas être implicité, s'exposant ainsi à de potentielles instabilités.\n",
    "Le terme source radioactive_decay permet d'impliciter ce terme. Pour vérifier l'implémentation on néglige les termes de convection et de diffusion : $$\\partial_t c = {\\color{red}{-\\lambda c}} + \\text{Prod}$$\n",
    "La solution de cette équation est : $$c = \\frac{\\text{Prod}}{\\lambda} (e^{-\\lambda t} - 1)$$"
   ]
  },
  {
   "cell_type": "code",
   "execution_count": null,
   "id": "85f9b515",
   "metadata": {},
   "outputs": [],
   "source": [
    "run.TRUST_parameters(\"1.8.0\")"
   ]
  },
  {
   "cell_type": "code",
   "execution_count": null,
   "id": "0868e968-9777-4954-80f4-46b58fe1b126",
   "metadata": {
    "tags": []
   },
   "outputs": [],
   "source": [
    "from trustutils import run  \n",
    "\n",
    "type_srcs = {\"decay\" : \"radioactive_decay 2 0.01 2.0\", \"constant\" : \"source_Constituant champ_fonc_fonction pb_fluide concentration 2 -0.01*val -2.0*val\"}\n",
    "\n",
    "option_mesh = {\"VEFPreP1B\" : \"tetraedriser_homogene_compact dom_fluide\",\n",
    "                \"VDF\" : \"\",\n",
    "                \"PolyMAC_P0\" : \"Polyedriser dom_fluide\",\n",
    "                \"PolyMAC_P0P1NC\" : \"Polyedriser dom_fluide\"}\n",
    "\n",
    "run.reset()\n",
    "for dis in [\"VEFPreP1B\", \"PolyMAC_P0P1NC\", \"PolyMAC_P0\"]:\n",
    "    for name_src, type_src in type_srcs.items():\n",
    "        for dt in [\"0.1\", \"1\"]:\n",
    "            run.addCaseFromTemplate(\"jdd.data\", f\"{dis}/{name_src}/dt{dt}\", {\"decay\" : type_src, \"dt\" : dt, \"dis\" : dis, \"action_maillage\" : option_mesh[dis]})\n",
    "\n",
    "run.printCases()\n",
    "run.runCases()"
   ]
  },
  {
   "cell_type": "markdown",
   "id": "e6c2c033-3d3d-40dd-9853-7ac2384d69d1",
   "metadata": {},
   "source": [
    "## Comparaisons a une solution de reference \n",
    "### Comparaison"
   ]
  },
  {
   "cell_type": "code",
   "execution_count": null,
   "id": "29094d5b-cc45-4fa7-8b9e-d9acbdaef5bc",
   "metadata": {},
   "outputs": [],
   "source": [
    "from trustutils import plot\n",
    "import numpy as np\n",
    "\n",
    "a = plot.Graph(\"Comparaison\",size=[15,8])\n",
    "\n",
    "for dis in [\"VEFPreP1B\", \"PolyMAC_P0P1NC\", \"PolyMAC_P0\"]:\n",
    "    for name_src, type_src in type_srcs.items():\n",
    "        for dt in [\"0.1\", \"1\"]:\n",
    "            a.addPoint(f\"{dis}/{name_src}/dt{dt}/jdd_C.son\", label=f\"{dis} - {name_src} - dt = {dt} s\")\n",
    "\n",
    "x = np.linspace(0,10,100)\n",
    "y=-0.5/0.01*(np.exp(-0.01*x)-1) \n",
    "a.add(x,y,label=\"Analytique 1\")   \n",
    "\n",
    "a.label(\"Temps[s]\",\"Concentration 1\")\n",
    "a.legend(loc='upper center', bbox_to_anchor=(0.5, -0.1),\n",
    "          fancybox=True, shadow=True, ncol=2)\n",
    "\n",
    "a.visu()"
   ]
  },
  {
   "cell_type": "markdown",
   "id": "d6135dc9-7cbf-4d82-af2f-91e07f1cdb7b",
   "metadata": {},
   "source": [
    "## Comparaison"
   ]
  },
  {
   "cell_type": "code",
   "execution_count": null,
   "id": "b522882b-d9d1-470a-ae75-3ca3335d9793",
   "metadata": {},
   "outputs": [],
   "source": [
    "from trustutils import plot\n",
    "import numpy as np\n",
    "\n",
    "a = plot.Graph(\"Comparaison\",size=[15,8])\n",
    "\n",
    "for dis in [\"VEFPreP1B\", \"PolyMAC_P0P1NC\", \"PolyMAC_P0\"]:\n",
    "    for name_src, type_src in type_srcs.items():\n",
    "        for dt in [\"0.1\", \"1\"]:\n",
    "            a.addPoint(f\"{dis}/{name_src}/dt{dt}/jdd_C.son\", compo=1, label=f\"{dis} - {name_src} - dt = {dt} s\")\n",
    "\n",
    "x = np.linspace(0,10,100)\n",
    "y=-0.8/2.*(np.exp(-2.0*x)-1) \n",
    "a.add(x,y,label=\"Analytique 1\")   \n",
    "\n",
    "a.label(\"Temps[s]\",\"Concentration 2\")\n",
    "a.legend(loc='upper center', bbox_to_anchor=(0.5, -0.1),\n",
    "          fancybox=True, shadow=True, ncol=2)\n",
    "\n",
    "a.visu()"
   ]
  }
 ],
 "metadata": {
  "kernelspec": {
   "display_name": "Python 3 (ipykernel)",
   "language": "python",
   "name": "python3"
  },
  "language_info": {
   "codemirror_mode": {
    "name": "ipython",
    "version": 3
   },
   "file_extension": ".py",
   "mimetype": "text/x-python",
   "name": "python",
   "nbconvert_exporter": "python",
   "pygments_lexer": "ipython3",
   "version": "3.8.18"
  }
 },
 "nbformat": 4,
 "nbformat_minor": 5
}
