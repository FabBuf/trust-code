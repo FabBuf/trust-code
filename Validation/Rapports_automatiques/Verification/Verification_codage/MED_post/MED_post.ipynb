{
 "cells": [
  {
   "cell_type": "markdown",
   "id": "improved-telescope",
   "metadata": {},
   "source": [
    "# Checking various MED post processing"
   ]
  },
  {
   "cell_type": "markdown",
   "id": "b4a34f83",
   "metadata": {},
   "source": [
    "This form checks various functionalities around the MED post-processing format, notably the coherence between the internal representation of the domain, and its MEDCoupling counterpart.\n",
    "\n",
    "We make sure that various modifications of the domain performed with geometric interprets (like 'VerifierCoin') do not affect the output in MED format."
   ]
  },
  {
   "cell_type": "markdown",
   "id": "0f7dd549",
   "metadata": {},
   "source": [
    "## Prepare and execution of datasets"
   ]
  },
  {
   "cell_type": "markdown",
   "id": "e2bf5622",
   "metadata": {},
   "source": [
    "Prepare some MED files that will be used in the datasets:"
   ]
  },
  {
   "cell_type": "code",
   "execution_count": null,
   "id": "northern-guide",
   "metadata": {
    "tags": []
   },
   "outputs": [],
   "source": [
    "from trustutils import run\n",
    "\n",
    "run.useMEDCoupling()\n",
    "run.initBuildDirectory()\n",
    "build = run.BUILD_DIRECTORY\n",
    "\n",
    "# Invoke 'gen_simple_mesh.generate()'\n",
    "import sys\n",
    "sys.path.append(build)\n",
    "import gen_simple_mesh as gsm\n",
    "gsm.generate(True, build)"
   ]
  },
  {
   "cell_type": "markdown",
   "id": "c8d001eb",
   "metadata": {},
   "source": [
    "Let's run the datasets, some of them were simply crashing before the fix:"
   ]
  },
  {
   "cell_type": "code",
   "execution_count": null,
   "id": "65791f9e",
   "metadata": {},
   "outputs": [],
   "source": [
    "run.addCase(\".\",\"unused_nodes.data\")\n",
    "run.addCase(\".\",\"verif_coin.data\")\n",
    "run.addCase(\".\",\"raffiner.data\")\n",
    "\n",
    "run.printCases()\n",
    "\n",
    "run.runCases()"
   ]
  },
  {
   "cell_type": "markdown",
   "id": "streaming-avenue",
   "metadata": {},
   "source": [
    "## Results\n",
    "### Unused nodes"
   ]
  },
  {
   "cell_type": "markdown",
   "id": "72d73d87",
   "metadata": {},
   "source": [
    "When an extra orphan node was found in the domain, it was discarded by TRUST but was kept in the internal MEDCoupling instance, leading to some weird behavior (or a crash):"
   ]
  },
  {
   "cell_type": "code",
   "execution_count": null,
   "id": "3b571324",
   "metadata": {},
   "outputs": [],
   "source": [
    "from trustutils import visit\n",
    "visit.showMesh(\"unused_nodes.lml\",\"dom\")"
   ]
  },
  {
   "cell_type": "markdown",
   "id": "88e11cff",
   "metadata": {},
   "source": [
    "## VerifierCoin & Raffiner\n",
    "\n",
    "In thoses cases, the fact that we were modifying the domain with a TRUST interpreter (VerifierCoin or Raffiner) was not properly synchronizing the internal MCUMesh object."
   ]
  },
  {
   "cell_type": "markdown",
   "id": "c5a692c5",
   "metadata": {},
   "source": [
    "Display of the domain after a read/write in the MED format, and after 'VerifierCoin' has been invoked - corners should be properly modified to show the extra edges (anyway, it was crashing before!):"
   ]
  },
  {
   "cell_type": "code",
   "execution_count": null,
   "id": "a36b05d5",
   "metadata": {},
   "outputs": [],
   "source": [
    "visit.showMesh(\"verif_coin.lml\",\"dom\")"
   ]
  },
  {
   "cell_type": "markdown",
   "id": "eeef521e",
   "metadata": {},
   "source": [
    "Same story with 'Raffiner', which is another geometric interpret - the domain should display correctly:"
   ]
  },
  {
   "cell_type": "code",
   "execution_count": null,
   "id": "2d6d00a8",
   "metadata": {},
   "outputs": [],
   "source": [
    "visit.showMesh(\"raffiner.lml\",\"dom_init\")"
   ]
  }
 ],
 "metadata": {
  "kernelspec": {
   "display_name": "Python 3 (ipykernel)",
   "language": "python",
   "name": "python3"
  },
  "language_info": {
   "codemirror_mode": {
    "name": "ipython",
    "version": 3
   },
   "file_extension": ".py",
   "mimetype": "text/x-python",
   "name": "python",
   "nbconvert_exporter": "python",
   "pygments_lexer": "ipython3",
   "version": "3.7.16"
  }
 },
 "nbformat": 4,
 "nbformat_minor": 5
}
