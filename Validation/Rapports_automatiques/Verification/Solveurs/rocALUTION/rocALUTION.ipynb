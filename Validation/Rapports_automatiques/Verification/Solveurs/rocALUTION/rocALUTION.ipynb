{
 "cells": [
  {
   "cell_type": "markdown",
   "id": "gross-patent",
   "metadata": {},
   "source": [
    "# rocALUTION GPU solvers"
   ]
  },
  {
   "cell_type": "markdown",
   "id": "perfect-entrepreneur",
   "metadata": {},
   "source": [
    "### Description \n",
    "Test of different iterative linear solvers and preconditionners from library rocALUTION library https://github.com/ROCmSoftwarePlatform/rocALUTION. These solvers run either on GPU AMD card, either on CPU and  will be fully available in the TRUST 1.9.1 version.\n",
    "\n",
    "In this sheet, we test all the different solvers/preconditionners for non regression. Parallel scalability of these solvers will be tested in another sheet."
   ]
  },
  {
   "cell_type": "code",
   "execution_count": null,
   "id": "53528cf8",
   "metadata": {
    "scrolled": true
   },
   "outputs": [],
   "source": [
    "from trustutils import run\n",
    "run.TRUST_parameters()\n",
    "run.introduction('Pierre LEDAC (CEA/DES/ISAS/DM2S/STMF/LCAN)')\n",
    "# Creation des jeux de donnees\n",
    "NP=1\n",
    "#MESH=\"31 31 10\" # 2 592 000\n",
    "#MESH=\"11 11 3\"  #    64 000\n",
    "MESH=\"7 7 2\"\n",
    "seuil=\"seuil 1.e-4 impr\"\n",
    "cases=[\n",
    "       (\"trust_gcp_ssor\"    ,\"Trust CG/SSOR\"   ,\"           gcp  { precond ssor { omega 1.6 } %s }\" % seuil),\n",
    "       (\"gcp_ssor\"     ,\"CG/SSOR\"               ,\"rocalution gcp  { precond ssor { omega 1.0 } %s }\" % seuil),\n",
    "       #(\"gcp_sgs1.6\"     ,\"CG/SGS1.6\"          ,\"rocalution gcp  { precond ssor { omega 1.6 } %s }\" % seuil),\n",
    "       #(\"gcp_diag\"    ,\"Petsc CG/Jacobi\"      ,\"petsc      gcp { precond diag   { } %s }\" % seuil),#\n",
    "       #(\"gcp_jacobi\"        ,\"CG/Jacobi\"      ,\"rocalution gcp { precond jacobi { } %s }\" % seuil),#\n",
    "       (\"gcp_ilu0\"             ,\"CG/ILU(0)\",\"rocalution gcp { precond ilu    { level 0 } %s }\" % seuil),\n",
    "       (\"bicgstab_ilu0\"   ,\"BiCGStab/ILU(0)\",\"rocalution bicgstab { precond ilu    { level 0 } %s }\" % seuil),\n",
    "       #(\"fgcp_pairwiseamg\" ,\"FCG/Pairwise-AMG\",\"rocalution fgcp { precond pairwiseamg { } %s }\" % seuil), #flexible plante\n",
    "       (\"gcp_pwamg\"  ,\"CG/PW-AMG\"       ,\"rocalution gcp  { precond pw-amg { } %s }\" % seuil),# \n",
    "       (\"gcp_uaamg\"  ,\"CG/UA-AMG\"       ,\"rocalution gcp  { precond ua-amg { } %s }\" % seuil),#\n",
    "       (\"gcp_saamg\"  ,\"CG/SA-AMG\"       ,\"rocalution gcp  { precond sa-amg { } %s }\" % seuil),#\n",
    "       (\"gcp_camg\"   ,\"CG/C-AMG\"         ,\"rocalution gcp  { precond c-amg  { } %s }\" % seuil),#\n",
    "       (\"bicgstab_camg\"   ,\"BiCGStab/C-AMG\"         ,\"rocalution bicgstab  { precond c-amg  { } %s }\" % seuil),#\n",
    "      ]\n",
    "run.reset()\n",
    "run.initCaseSuite()\n",
    "for case,label,syntax in cases:\n",
    "    # Create test case:\n",
    "    run.executeCommand(\"cas=%s;mkdir -p $cas;cd $cas;cp ../base.data $cas.data;ln -s -f ../post_run .\" % case, verbose=False)\n",
    "    cas = run.addCase(case,\"%s.data\" % case)\n",
    "    cas.substitute(\"_solveur_\",syntax)\n",
    "    cas.substitute(\"_MESH_\",MESH)\n",
    "    # Create a parallel test case:\n",
    "    if NP>1:\n",
    "        run.executeCommand(\"cas=%s;cd $cas;make_PAR.data $cas %s;exit 0\" % (case,NP), verbose=False)\n",
    "        cas = run.addCase(case,\"PAR_%s.data\" % case, NP)\n",
    "    \n",
    "run.printCases()"
   ]
  },
  {
   "cell_type": "code",
   "execution_count": null,
   "id": "15189bb2-352d-48f9-85fa-64c4323e0f88",
   "metadata": {
    "scrolled": true
   },
   "outputs": [],
   "source": [
    "run.runCases()"
   ]
  },
  {
   "cell_type": "markdown",
   "id": "818473e8",
   "metadata": {},
   "source": [
    "# Convergence"
   ]
  },
  {
   "cell_type": "code",
   "execution_count": null,
   "id": "60506cb2",
   "metadata": {},
   "outputs": [],
   "source": [
    "from trustutils import plot\n",
    "    \n",
    "a = plot.Graph(\"Relative residual ||Ax(it)-b||/||Ax(0)-b|| during the fist time step:\",\"\",1,1,[10,5])\n",
    "\n",
    "for case,label,syntax in cases:\n",
    "    cols = plot.loadText(case+\"/%s.res\" % case)\n",
    "    a.add(cols[0],cols[1],label=\"%s\" % label, marker='-')\n",
    "    if NP>1:\n",
    "        cols = plot.loadText(case+\"/PAR_%s.res\" % case)\n",
    "        a.add(cols[0],cols[1],label=\"%s (%s MPI cores)\" % (label,NP), marker='o')\n",
    "\n",
    "a.label(\"Iteration\",\"Residual\")\n",
    "a.subplot.set_yscale('log')"
   ]
  },
  {
   "cell_type": "markdown",
   "id": "7936faa8",
   "metadata": {},
   "source": [
    "The fastest convergence are obtained with multigrid preconditionners. BiCGStab has better convergence than GC though the matrix is symmetric..."
   ]
  },
  {
   "cell_type": "markdown",
   "id": "dd2c19e6",
   "metadata": {},
   "source": [
    "# Memory used"
   ]
  },
  {
   "cell_type": "code",
   "execution_count": null,
   "id": "9d6096bd",
   "metadata": {
    "scrolled": true
   },
   "outputs": [],
   "source": [
    "a = plot.Graph(\"Max RAM per core used during calculation:\",\"\",1,1,[10,5])\n",
    "for case,label,syntax in cases:\n",
    "    cols = plot.loadText(case+\"/%s.ram\" % case)\n",
    "    a.add(cols[0],cols[1],label=\"%s\" % label)\n",
    "    if NP>1:\n",
    "        cols = plot.loadText(case+\"/PAR_%s.ram\" % case)\n",
    "        a.add(cols[0],cols[1],label=\"%s (%s MPI cores)\" % (label,NP), marker='-o')\n",
    "a.label(\"Time [s]\",\"RAM [MB]\")"
   ]
  },
  {
   "cell_type": "markdown",
   "id": "fa45b1e5",
   "metadata": {},
   "source": [
    "# CPU time evolution"
   ]
  },
  {
   "cell_type": "code",
   "execution_count": null,
   "id": "c6ad72e3",
   "metadata": {
    "scrolled": true
   },
   "outputs": [],
   "source": [
    "a = plot.Graph(\"CPU time of pressure solve during calculation:\",\"\",1,1,[10,5])\n",
    "for case,label,syntax in cases:\n",
    "    cols = plot.loadText(case+\"/%s.cpu\" % case)\n",
    "    a.add(cols[0],cols[1],label=\"%s\" % label)\n",
    "    if NP>1:\n",
    "        cols = plot.loadText(case+\"/PAR_%s.cpu\" % case)\n",
    "        a.add(cols[0],cols[1],label=\"%s (%s MPI cores)\" % (label,NP), marker='-o')\n",
    "a.label(\"Time step\",\"CPU [s]\")\n",
    "#a.scale(yscale='log')\n",
    "#a.subplot.set_xticks(range(1,6))"
   ]
  },
  {
   "cell_type": "markdown",
   "id": "a0813029",
   "metadata": {},
   "source": [
    "The faster solver in sequential are CG with AMG preconditionners. Warning: this results should not be generalized on all meshes and with parallel computation."
   ]
  }
 ],
 "metadata": {
  "kernelspec": {
   "display_name": "Python 3 (ipykernel)",
   "language": "python",
   "name": "python3"
  },
  "language_info": {
   "codemirror_mode": {
    "name": "ipython",
    "version": 3
   },
   "file_extension": ".py",
   "mimetype": "text/x-python",
   "name": "python",
   "nbconvert_exporter": "python",
   "pygments_lexer": "ipython3",
   "version": "3.7.16"
  }
 },
 "nbformat": 4,
 "nbformat_minor": 5
}
